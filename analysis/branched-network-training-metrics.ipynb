{
 "cells": [
  {
   "cell_type": "code",
   "execution_count": 3,
   "metadata": {},
   "outputs": [],
   "source": [
    "import matplotlib.pyplot as plt\n",
    "import numpy as np\n",
    "plt.style.use('seaborn-colorblind')\n",
    "\n",
    "target_directory = \"../trained-models/BranchedResNet18/run10/metrics/\""
   ]
  },
  {
   "cell_type": "code",
   "execution_count": 13,
   "metadata": {},
   "outputs": [],
   "source": [
    "branch_train_accuracies=np.load(target_directory+\"branch-train-accuracies-BranchedResNet18.npy\")\n",
    "branch_val_accuracies=np.load(target_directory+\"branch-val-accuracies-BranchedResNet18.npy\")\n",
    "branch_train_losses=np.load(target_directory+\"branch-train-losses-BranchedResNet18.npy\")\n",
    "branch_val_losses=np.load(target_directory+\"branch-val-losses-BranchedResNet18.npy\")\n",
    "\n",
    "train_losses=np.load(target_directory+\"train-losses-BranchedResNet18.npy\")\n",
    "val_losses=np.load(target_directory+\"val-losses-BranchedResNet18.npy\")"
   ]
  },
  {
   "cell_type": "code",
   "execution_count": 16,
   "metadata": {},
   "outputs": [
    {
     "name": "stdout",
     "output_type": "stream",
     "text": [
      "(3, 5)\n",
      "(3, 5)\n",
      "(3, 4, 5)\n",
      "(3, 4, 5)\n",
      "(3, 4, 5)\n",
      "(3, 4, 5)\n"
     ]
    }
   ],
   "source": [
    "print(val_losses.shape)\n",
    "print(train_losses.shape)\n",
    "\n",
    "print(branch_train_accuracies.shape)\n",
    "print(branch_val_accuracies.shape)\n",
    "print(branch_train_losses.shape)\n",
    "print(branch_val_losses.shape)"
   ]
  }
 ],
 "metadata": {
  "kernelspec": {
   "display_name": "Python 3",
   "language": "python",
   "name": "python3"
  },
  "language_info": {
   "codemirror_mode": {
    "name": "ipython",
    "version": 3
   },
   "file_extension": ".py",
   "mimetype": "text/x-python",
   "name": "python",
   "nbconvert_exporter": "python",
   "pygments_lexer": "ipython3",
   "version": "3.7.6"
  }
 },
 "nbformat": 4,
 "nbformat_minor": 4
}
